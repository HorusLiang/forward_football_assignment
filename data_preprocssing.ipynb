{
 "cells": [
  {
   "cell_type": "code",
   "execution_count": 315,
   "metadata": {},
   "outputs": [],
   "source": [
    "import numpy as np\n",
    "import pandas as pd\n",
    "import matplotlib.pyplot as plt"
   ]
  },
  {
   "cell_type": "code",
   "execution_count": 316,
   "metadata": {},
   "outputs": [],
   "source": [
    "df=pd.read_excel('PassEventsForwardFootball.xlsx')"
   ]
  },
  {
   "cell_type": "code",
   "execution_count": 317,
   "metadata": {},
   "outputs": [],
   "source": [
    "# --------------------------------------------------------- observe\n",
    "\n",
    "# conclusion: from the sorted TimeStamp, I found that there are two matches rather than two teams in one match-> more obvious, day is different->done\n",
    "\n",
    "df_team_one=df[df.Team==\"Team Forward Football_1\"]\n",
    "df_team_two=df[df.Team==\"Team Forward Football_2\"]\n",
    "\n",
    "# df_team_one.sort_values('TimeStamp') # check the starting and ending time of each team\n",
    "\n"
   ]
  },
  {
   "cell_type": "code",
   "execution_count": 318,
   "metadata": {},
   "outputs": [],
   "source": [
    "# df_team_two.sort_values('TimeStamp')\n",
    "\n",
    "# *********************************************************"
   ]
  },
  {
   "cell_type": "code",
   "execution_count": 319,
   "metadata": {},
   "outputs": [],
   "source": [
    "# ---------------------------------------------------------\n",
    "\n",
    "# df.groupby(['Player_id']).size() \n",
    "\n",
    "# calculate this in order to make sure there is no player with just a single line data\n",
    "# -> avoid when splitting dataset, there is no solution to split into training and test dataset\n",
    "# -> the result is positive-> done\n",
    "\n",
    "# *********************************************************"
   ]
  },
  {
   "cell_type": "code",
   "execution_count": 320,
   "metadata": {},
   "outputs": [],
   "source": [
    "# ---------------------------------------------------------\n",
    "def print_column_name(df):\n",
    "    for col in df:\n",
    "        print(\"column name:\",col)\n",
    "# print_column_name(df)\n",
    "\n",
    "\n",
    "# feature expansion\n",
    "# 1. this is obvious that the distance between passer and receicver has the influence on if the pass is successful\n",
    "# -> found that Pass length has been calculated->done\n",
    "# -> but angle of start is also informative-> angle is also calculated->done\n",
    "# 2. the difference between startTime and the start time have an influence on the physical strength-> done\n",
    "# 3. if the exact position or the interval of position has an influence on the result-> generate features,check the correlation-> how to use it ??? we have automately feature selection\n",
    "\n",
    "# 4. note that former part is more team 1, later part is for team 2, then there is also the overlap records, try to use time to generate features !!!\n",
    "# time can also use Time block, or calculated time using minus\n",
    "# -> how many opponents appear in 5s in a exact scope\n",
    "# -> how many friends appear in 5s or around 5s in a exact score\n",
    "# -> how many rival passes\n",
    "# -> how many friends passes \n",
    "# -> how many rivals and friends in a certain fields.\n",
    "\n",
    "# 5. Angle passe is for ridian, maybe degree is better ???-> not sure,but don't think so, just leave this idea here ==\n",
    "\n",
    "# about time period for the first match and second match or not? -> just two matches->done\n",
    "\n",
    "# consider the success rate of pass of one player-> should done after split->done\n",
    "\n",
    "# outlier?-> not in this project"
   ]
  },
  {
   "cell_type": "code",
   "execution_count": 321,
   "metadata": {},
   "outputs": [],
   "source": [
    "# the scale is for per second, we don't need to extract more\n",
    "# just have two matches, not periodic, so not informatie-> discard ???\n",
    "\n",
    "df['pass_year']=pd.DatetimeIndex(df['TimeStamp']).year\n",
    "df['pass_month']=pd.DatetimeIndex(df['TimeStamp']).month\n",
    "df['pass_day']=pd.DatetimeIndex(df['TimeStamp']).day\n",
    "df['pass_hour']=pd.DatetimeIndex(df['TimeStamp']).hour\n",
    "df['pass_minute']=pd.DatetimeIndex(df['TimeStamp']).minute\n",
    "df['pass_second']=pd.DatetimeIndex(df['TimeStamp']).second\n"
   ]
  },
  {
   "cell_type": "code",
   "execution_count": 322,
   "metadata": {},
   "outputs": [],
   "source": [
    "df['start_year']=pd.DatetimeIndex(df['startTime']).year\n",
    "df['start_month']=pd.DatetimeIndex(df['startTime']).month\n",
    "df['start_day']=pd.DatetimeIndex(df['startTime']).day\n",
    "df['start_hour']=pd.DatetimeIndex(df['startTime']).hour\n",
    "df['start_minute']=pd.DatetimeIndex(df['startTime']).minute\n",
    "df['start_second']=pd.DatetimeIndex(df['startTime']).second"
   ]
  },
  {
   "cell_type": "code",
   "execution_count": 323,
   "metadata": {},
   "outputs": [],
   "source": [
    "df['time_process']=pd.DatetimeIndex(df['TimeStamp'])-pd.DatetimeIndex(df['startTime'])"
   ]
  },
  {
   "cell_type": "code",
   "execution_count": 324,
   "metadata": {},
   "outputs": [],
   "source": [
    "# df['time_process']\n",
    "\n",
    "# note that there is no month or year, so\n",
    "# df['time_process_year']=df['time_process'].dt.components.years\n",
    "# df['time_process_month']=df['time_process'].dt.components.months\n",
    "# is not needed at all"
   ]
  },
  {
   "cell_type": "code",
   "execution_count": 325,
   "metadata": {},
   "outputs": [],
   "source": [
    "df['time_process_day']=df['time_process'].dt.components.days\n",
    "df['time_process_hour']=df['time_process'].dt.components.hours\n",
    "df['time_process_minute']=df['time_process'].dt.components.minutes\n",
    "df['time_process_second']=df['time_process'].dt.components.seconds"
   ]
  },
  {
   "cell_type": "code",
   "execution_count": 326,
   "metadata": {},
   "outputs": [],
   "source": [
    "def drop_columns(df,lst_columns):\n",
    "    return df.drop(columns=lst_columns,axis=1)\n",
    "def drop_columns_with_one_unique_value(df):\n",
    "    return drop_columns(df,get_columns_with_one_unique_value(df))\n",
    "\n",
    "def get_columns_with_one_unique_value(df):\n",
    "    col_counts = df.nunique()\n",
    "    cols_with_one_unique_value = col_counts[col_counts == 1]\n",
    "    return list(cols_with_one_unique_value.index)"
   ]
  },
  {
   "cell_type": "code",
   "execution_count": 327,
   "metadata": {},
   "outputs": [],
   "source": [
    "\n",
    "# there will be a lot of columns that are not informative( just have one unique value), then check how many here\n",
    "# get_columns_with_one_unique_value(df)"
   ]
  },
  {
   "cell_type": "code",
   "execution_count": 328,
   "metadata": {},
   "outputs": [],
   "source": [
    "\n",
    "def print_unique_value(df):\n",
    "    for col in df:\n",
    "        print(\"column name:\",col)\n",
    "        print(df[col].unique())\n",
    "        print(\"---\")\n",
    "# print_unique_value(df)\n",
    "\n",
    "# from the result, we could see that columns\n",
    "# Type, x_pitchsize, y_pitchsize each have just one unique value->done\n",
    "# Club has just one unique vale ['Team Forward Football']-> done\n",
    "\n",
    "\n",
    "# isForward and isSucceeded are either True or False, then convert them to numerical value 0 and 1 in order to better process-> done\n",
    "# Team is either ['Team Forward Football_1' 'Team Forward Football_2'], then convert them to numerical value 0 and 1 -> done\n",
    "# Pass type ['Forward pass' 'Lateral pass' 'Backward pass']-> 0,1,2->done\n",
    "# Pressure level -> ['Full Pressure' 'No Pressure' 'Limited Pressure']->done\n",
    "# column name: Zone ['Attack' 'Defence' 'Mid field']->0,1,2\n",
    "# column name: Playing direction_first half\n",
    "# ['left' 'right']\n",
    "# column name: Playing direction_second half\n",
    "# ['left' 'right']\n",
    "\n",
    "# matchDuration is written in minutes and also just have two values-> don't need to convert\n",
    "\n"
   ]
  },
  {
   "cell_type": "code",
   "execution_count": 329,
   "metadata": {},
   "outputs": [],
   "source": [
    "df.isForward = df.isForward.replace({True: 1, False: 0})\n",
    "df.isSucceeded = df.isSucceeded.replace({True: 1, False: 0})\n",
    "df.Team=df.Team.replace({'Team Forward Football_1':0,'Team Forward Football_2':1}) # first team 1-> number 1,but seems that it's better to have classified value begin from 0\n",
    "df['Pass type']=df['Pass type'].replace({\"Forward pass\":0,\"Lateral pass\":1,\"Backward pass\":2})\n",
    "df['Pressure level']=df['Pressure level'].replace({\"Full Pressure\":2,\"Limited Pressure\":1,\"No Pressure\":0})\n",
    "df['Zone']=df['Zone'].replace({'Attack':0,'Defence':1,'Mid field':2})\n",
    "df['Playing direction_first half']=df['Playing direction_first half'].replace({'left':0,'right':1})\n",
    "df['Playing direction_second half']=df['Playing direction_second half'].replace({'left':0,'right':1})\n"
   ]
  },
  {
   "cell_type": "code",
   "execution_count": 330,
   "metadata": {},
   "outputs": [],
   "source": [
    "# --------------------------------------------------------- for test\n",
    "# generate features based on groupby Player_id\n",
    "\n",
    "# df.groupby(['Player_id'])['isSucceeded'].mean().reset_index(name='mean_isSucceeded_each_player')\n"
   ]
  },
  {
   "cell_type": "code",
   "execution_count": 331,
   "metadata": {},
   "outputs": [],
   "source": [
    "def get_none_percent(df):\n",
    "    return df.isna().sum()/df.shape[0]\n",
    "def get_none_num(df):\n",
    "    return df.isna().sum()\n",
    "\n",
    "# get_none_percent(df)\n"
   ]
  },
  {
   "cell_type": "code",
   "execution_count": 332,
   "metadata": {},
   "outputs": [],
   "source": [
    "def compute_lenght(df):\n",
    "    import math\n",
    "    length=np.sqrt((df['posX_passer']-df['received_PosX'])**2+(df['posY_passer']-df['received_PosY'])**2)\n",
    "    return length"
   ]
  },
  {
   "cell_type": "code",
   "execution_count": 333,
   "metadata": {},
   "outputs": [],
   "source": [
    "fill_series=compute_lenght(df)"
   ]
  },
  {
   "cell_type": "code",
   "execution_count": 334,
   "metadata": {},
   "outputs": [],
   "source": [
    "# df[\"Pass length\"]=df[\"Pass length\"].fillna(compute_lenght(df)) # actually it's not allowed, will fill in with a function not the return value of this function\n",
    "df[\"Pass length\"]=df[\"Pass length\"].fillna(fill_series)"
   ]
  },
  {
   "cell_type": "code",
   "execution_count": 335,
   "metadata": {},
   "outputs": [],
   "source": [
    "# found that there is no receivedId if isSucceed is false, check if they have the one-to-one relation\n",
    "# -> the answer is yes, so receivedId is also the answer!!! we can't use it in training a model\n",
    "# -> just delete it (receivedId)->done\n",
    "\n",
    "# 1-df['isSucceeded'].sum()/df.shape[0]\n",
    "\n",
    "# even the pass is not successful, then there is a expected sending point and a received point, so all the Pass length could be calculated\n",
    "# -> the missing value of Pass length is solved-> done\n",
    "\n"
   ]
  },
  {
   "cell_type": "code",
   "execution_count": 336,
   "metadata": {},
   "outputs": [],
   "source": [
    "# considering about the imbalance of isSucceeded\n",
    "\n",
    "# print(\"successful:\",df['isSucceeded'].sum()/df.shape[0])\n",
    "# print(\"failure:\",1-df['isSucceeded'].sum()/df.shape[0])\n",
    "\n",
    "# -> not so balanced\n",
    "# -> so try to interpolate the minor class or reduce the major class or using another score metric *** different choice\n",
    "# -> which is suitable? but imbalanced data is not series, so tring score metric, for example, f1 score\n"
   ]
  },
  {
   "cell_type": "code",
   "execution_count": 337,
   "metadata": {},
   "outputs": [],
   "source": [
    "import math\n",
    "def get_degree(ridian):\n",
    "    return ridian/math.pi*180\n",
    "def get_ridian(degree):\n",
    "    return degree*math.pi/180"
   ]
  },
  {
   "cell_type": "code",
   "execution_count": 338,
   "metadata": {},
   "outputs": [],
   "source": [
    "# Define a custom function that returns the data type of a column\n",
    "def check_dtype(col):\n",
    "    return col.dtype\n",
    "    \n",
    "# Apply the custom function to each column of the DataFrame\n",
    "# df.apply(check_dtype)"
   ]
  },
  {
   "cell_type": "code",
   "execution_count": null,
   "metadata": {},
   "outputs": [],
   "source": []
  },
  {
   "cell_type": "code",
   "execution_count": 303,
   "metadata": {},
   "outputs": [],
   "source": [
    "lst_delete=['TimeStamp','startTime','time_process'] # receivedId is also informative, so don't delete it, 'time_process' is discarded, just two match, not informative->done\n",
    "lst_one_value=get_columns_with_one_unique_value(df)\n",
    "# print(lst_one_value)\n"
   ]
  },
  {
   "cell_type": "code",
   "execution_count": 304,
   "metadata": {},
   "outputs": [],
   "source": [
    "df=drop_columns(df,lst_delete+lst_one_value)"
   ]
  },
  {
   "cell_type": "code",
   "execution_count": 305,
   "metadata": {},
   "outputs": [
    {
     "data": {
      "text/plain": [
       "0       95583.0\n",
       "1       95601.0\n",
       "2       95597.0\n",
       "3       95587.0\n",
       "4       95579.0\n",
       "         ...   \n",
       "1137    95583.0\n",
       "1138    95601.0\n",
       "1139    95617.0\n",
       "1140    95603.0\n",
       "1141    95986.0\n",
       "Name: receiverId, Length: 1142, dtype: float64"
      ]
     },
     "execution_count": 305,
     "metadata": {},
     "output_type": "execute_result"
    }
   ],
   "source": [
    "df.receiverId"
   ]
  },
  {
   "cell_type": "code",
   "execution_count": 306,
   "metadata": {},
   "outputs": [],
   "source": [
    "def get_distribution_of_each_column(df):\n",
    "    # Loop over the features\n",
    "    for col in df:\n",
    "        # Select the feature\n",
    "        feature = df[col]\n",
    "        \n",
    "        # Plot the distribution of the feature\n",
    "        sns.histplot(feature)\n",
    "        plt.show()\n",
    "\n",
    "def get_distribution_columns(df,col_lst):\n",
    "    # Loop over the features\n",
    "    for col in col_lst:\n",
    "        # Select the feature\n",
    "        feature = df[col]\n",
    "        \n",
    "        # Plot the distribution of the feature\n",
    "        sns.histplot(feature)\n",
    "        plt.show()\n",
    "# get_distribution_of_each_column(df) \n",
    "# found that Pass length and Distance to first oppoment have log distribution"
   ]
  },
  {
   "cell_type": "code",
   "execution_count": 307,
   "metadata": {},
   "outputs": [],
   "source": [
    "from sklearn.preprocessing import QuantileTransformer\n",
    "transformer = QuantileTransformer(output_distribution='normal')\n",
    "df['Pass length'] = transformer.fit_transform(df['Pass length'].values.reshape(-1,1))\n",
    "df['Distance to first opponent'] = transformer.fit_transform(df['Distance to first opponent'].values.reshape(-1,1))"
   ]
  },
  {
   "cell_type": "code",
   "execution_count": 308,
   "metadata": {},
   "outputs": [
    {
     "data": {
      "image/png": "[encoded data removed]",
      "text/plain": [
       "<Figure size 640x480 with 1 Axes>"
      ]
     },
     "metadata": {},
     "output_type": "display_data"
    },
    {
     "data": {
      "image/png": "[encoded data removed]",
      "text/plain": [
       "<Figure size 640x480 with 1 Axes>"
      ]
     },
     "metadata": {},
     "output_type": "display_data"
    }
   ],
   "source": [
    "get_distribution_columns(df,['Pass length','Distance to first opponent']) # found that normal distribution has been transformed successfully"
   ]
  },
  {
   "cell_type": "code",
   "execution_count": 309,
   "metadata": {},
   "outputs": [
    {
     "data": {
      "text/html": [
       "<div>\n",
       "<style scoped>\n",
       "    .dataframe tbody tr th:only-of-type {\n",
       "        vertical-align: middle;\n",
       "    }\n",
       "\n",
       "    .dataframe tbody tr th {\n",
       "        vertical-align: top;\n",
       "    }\n",
       "\n",
       "    .dataframe thead th {\n",
       "        text-align: right;\n",
       "    }\n",
       "</style>\n",
       "<table border=\"1\" class=\"dataframe\">\n",
       "  <thead>\n",
       "    <tr style=\"text-align: right;\">\n",
       "      <th></th>\n",
       "      <th>posX_passer</th>\n",
       "      <th>posY_passer</th>\n",
       "      <th>received_PosX</th>\n",
       "      <th>received_PosY</th>\n",
       "      <th>isForward</th>\n",
       "      <th>isSucceeded</th>\n",
       "      <th>receiverId</th>\n",
       "      <th>Player_id</th>\n",
       "      <th>Team</th>\n",
       "      <th>matchDuration</th>\n",
       "      <th>...</th>\n",
       "      <th>pass_day</th>\n",
       "      <th>pass_hour</th>\n",
       "      <th>pass_minute</th>\n",
       "      <th>pass_second</th>\n",
       "      <th>start_day</th>\n",
       "      <th>start_hour</th>\n",
       "      <th>start_minute</th>\n",
       "      <th>time_process_hour</th>\n",
       "      <th>time_process_minute</th>\n",
       "      <th>time_process_second</th>\n",
       "    </tr>\n",
       "  </thead>\n",
       "  <tbody>\n",
       "    <tr>\n",
       "      <th>0</th>\n",
       "      <td>32</td>\n",
       "      <td>58</td>\n",
       "      <td>26</td>\n",
       "      <td>55</td>\n",
       "      <td>1</td>\n",
       "      <td>1</td>\n",
       "      <td>95583.0</td>\n",
       "      <td>95582</td>\n",
       "      <td>0</td>\n",
       "      <td>66.221867</td>\n",
       "      <td>...</td>\n",
       "      <td>5</td>\n",
       "      <td>11</td>\n",
       "      <td>39</td>\n",
       "      <td>15</td>\n",
       "      <td>5</td>\n",
       "      <td>11</td>\n",
       "      <td>36</td>\n",
       "      <td>0</td>\n",
       "      <td>3</td>\n",
       "      <td>2</td>\n",
       "    </tr>\n",
       "    <tr>\n",
       "      <th>1</th>\n",
       "      <td>16</td>\n",
       "      <td>23</td>\n",
       "      <td>20</td>\n",
       "      <td>29</td>\n",
       "      <td>0</td>\n",
       "      <td>1</td>\n",
       "      <td>95601.0</td>\n",
       "      <td>95582</td>\n",
       "      <td>0</td>\n",
       "      <td>66.221867</td>\n",
       "      <td>...</td>\n",
       "      <td>5</td>\n",
       "      <td>11</td>\n",
       "      <td>39</td>\n",
       "      <td>59</td>\n",
       "      <td>5</td>\n",
       "      <td>11</td>\n",
       "      <td>36</td>\n",
       "      <td>0</td>\n",
       "      <td>3</td>\n",
       "      <td>46</td>\n",
       "    </tr>\n",
       "    <tr>\n",
       "      <th>2</th>\n",
       "      <td>92</td>\n",
       "      <td>56</td>\n",
       "      <td>68</td>\n",
       "      <td>52</td>\n",
       "      <td>1</td>\n",
       "      <td>1</td>\n",
       "      <td>95597.0</td>\n",
       "      <td>95582</td>\n",
       "      <td>0</td>\n",
       "      <td>66.221867</td>\n",
       "      <td>...</td>\n",
       "      <td>5</td>\n",
       "      <td>11</td>\n",
       "      <td>41</td>\n",
       "      <td>47</td>\n",
       "      <td>5</td>\n",
       "      <td>11</td>\n",
       "      <td>36</td>\n",
       "      <td>0</td>\n",
       "      <td>5</td>\n",
       "      <td>34</td>\n",
       "    </tr>\n",
       "    <tr>\n",
       "      <th>3</th>\n",
       "      <td>72</td>\n",
       "      <td>55</td>\n",
       "      <td>76</td>\n",
       "      <td>62</td>\n",
       "      <td>0</td>\n",
       "      <td>1</td>\n",
       "      <td>95587.0</td>\n",
       "      <td>95582</td>\n",
       "      <td>0</td>\n",
       "      <td>66.221867</td>\n",
       "      <td>...</td>\n",
       "      <td>5</td>\n",
       "      <td>11</td>\n",
       "      <td>45</td>\n",
       "      <td>55</td>\n",
       "      <td>5</td>\n",
       "      <td>11</td>\n",
       "      <td>36</td>\n",
       "      <td>0</td>\n",
       "      <td>9</td>\n",
       "      <td>42</td>\n",
       "    </tr>\n",
       "    <tr>\n",
       "      <th>4</th>\n",
       "      <td>74</td>\n",
       "      <td>53</td>\n",
       "      <td>83</td>\n",
       "      <td>50</td>\n",
       "      <td>0</td>\n",
       "      <td>1</td>\n",
       "      <td>95579.0</td>\n",
       "      <td>95582</td>\n",
       "      <td>0</td>\n",
       "      <td>66.221867</td>\n",
       "      <td>...</td>\n",
       "      <td>5</td>\n",
       "      <td>11</td>\n",
       "      <td>46</td>\n",
       "      <td>1</td>\n",
       "      <td>5</td>\n",
       "      <td>11</td>\n",
       "      <td>36</td>\n",
       "      <td>0</td>\n",
       "      <td>9</td>\n",
       "      <td>48</td>\n",
       "    </tr>\n",
       "    <tr>\n",
       "      <th>...</th>\n",
       "      <td>...</td>\n",
       "      <td>...</td>\n",
       "      <td>...</td>\n",
       "      <td>...</td>\n",
       "      <td>...</td>\n",
       "      <td>...</td>\n",
       "      <td>...</td>\n",
       "      <td>...</td>\n",
       "      <td>...</td>\n",
       "      <td>...</td>\n",
       "      <td>...</td>\n",
       "      <td>...</td>\n",
       "      <td>...</td>\n",
       "      <td>...</td>\n",
       "      <td>...</td>\n",
       "      <td>...</td>\n",
       "      <td>...</td>\n",
       "      <td>...</td>\n",
       "      <td>...</td>\n",
       "      <td>...</td>\n",
       "      <td>...</td>\n",
       "    </tr>\n",
       "    <tr>\n",
       "      <th>1137</th>\n",
       "      <td>3</td>\n",
       "      <td>8</td>\n",
       "      <td>9</td>\n",
       "      <td>9</td>\n",
       "      <td>0</td>\n",
       "      <td>1</td>\n",
       "      <td>95583.0</td>\n",
       "      <td>95597</td>\n",
       "      <td>1</td>\n",
       "      <td>61.157933</td>\n",
       "      <td>...</td>\n",
       "      <td>12</td>\n",
       "      <td>12</td>\n",
       "      <td>51</td>\n",
       "      <td>49</td>\n",
       "      <td>12</td>\n",
       "      <td>12</td>\n",
       "      <td>6</td>\n",
       "      <td>0</td>\n",
       "      <td>45</td>\n",
       "      <td>36</td>\n",
       "    </tr>\n",
       "    <tr>\n",
       "      <th>1138</th>\n",
       "      <td>4</td>\n",
       "      <td>12</td>\n",
       "      <td>14</td>\n",
       "      <td>47</td>\n",
       "      <td>0</td>\n",
       "      <td>1</td>\n",
       "      <td>95601.0</td>\n",
       "      <td>95597</td>\n",
       "      <td>1</td>\n",
       "      <td>61.157933</td>\n",
       "      <td>...</td>\n",
       "      <td>12</td>\n",
       "      <td>12</td>\n",
       "      <td>51</td>\n",
       "      <td>52</td>\n",
       "      <td>12</td>\n",
       "      <td>12</td>\n",
       "      <td>6</td>\n",
       "      <td>0</td>\n",
       "      <td>45</td>\n",
       "      <td>39</td>\n",
       "    </tr>\n",
       "    <tr>\n",
       "      <th>1139</th>\n",
       "      <td>35</td>\n",
       "      <td>48</td>\n",
       "      <td>35</td>\n",
       "      <td>40</td>\n",
       "      <td>0</td>\n",
       "      <td>1</td>\n",
       "      <td>95617.0</td>\n",
       "      <td>95597</td>\n",
       "      <td>1</td>\n",
       "      <td>61.157933</td>\n",
       "      <td>...</td>\n",
       "      <td>12</td>\n",
       "      <td>12</td>\n",
       "      <td>52</td>\n",
       "      <td>37</td>\n",
       "      <td>12</td>\n",
       "      <td>12</td>\n",
       "      <td>6</td>\n",
       "      <td>0</td>\n",
       "      <td>46</td>\n",
       "      <td>24</td>\n",
       "    </tr>\n",
       "    <tr>\n",
       "      <th>1140</th>\n",
       "      <td>47</td>\n",
       "      <td>58</td>\n",
       "      <td>47</td>\n",
       "      <td>59</td>\n",
       "      <td>0</td>\n",
       "      <td>1</td>\n",
       "      <td>95603.0</td>\n",
       "      <td>95597</td>\n",
       "      <td>1</td>\n",
       "      <td>61.157933</td>\n",
       "      <td>...</td>\n",
       "      <td>12</td>\n",
       "      <td>12</td>\n",
       "      <td>53</td>\n",
       "      <td>57</td>\n",
       "      <td>12</td>\n",
       "      <td>12</td>\n",
       "      <td>6</td>\n",
       "      <td>0</td>\n",
       "      <td>47</td>\n",
       "      <td>44</td>\n",
       "    </tr>\n",
       "    <tr>\n",
       "      <th>1141</th>\n",
       "      <td>31</td>\n",
       "      <td>32</td>\n",
       "      <td>34</td>\n",
       "      <td>34</td>\n",
       "      <td>0</td>\n",
       "      <td>1</td>\n",
       "      <td>95986.0</td>\n",
       "      <td>95597</td>\n",
       "      <td>1</td>\n",
       "      <td>61.157933</td>\n",
       "      <td>...</td>\n",
       "      <td>12</td>\n",
       "      <td>12</td>\n",
       "      <td>55</td>\n",
       "      <td>38</td>\n",
       "      <td>12</td>\n",
       "      <td>12</td>\n",
       "      <td>6</td>\n",
       "      <td>0</td>\n",
       "      <td>49</td>\n",
       "      <td>25</td>\n",
       "    </tr>\n",
       "  </tbody>\n",
       "</table>\n",
       "<p>1142 rows × 32 columns</p>\n",
       "</div>"
      ],
      "text/plain": [
       "      posX_passer  posY_passer  received_PosX  received_PosY  isForward  \\\n",
       "0              32           58             26             55          1   \n",
       "1              16           23             20             29          0   \n",
       "2              92           56             68             52          1   \n",
       "3              72           55             76             62          0   \n",
       "4              74           53             83             50          0   \n",
       "...           ...          ...            ...            ...        ...   \n",
       "1137            3            8              9              9          0   \n",
       "1138            4           12             14             47          0   \n",
       "1139           35           48             35             40          0   \n",
       "1140           47           58             47             59          0   \n",
       "1141           31           32             34             34          0   \n",
       "\n",
       "      isSucceeded  receiverId  Player_id  Team  matchDuration  ...  pass_day  \\\n",
       "0               1     95583.0      95582     0      66.221867  ...         5   \n",
       "1               1     95601.0      95582     0      66.221867  ...         5   \n",
       "2               1     95597.0      95582     0      66.221867  ...         5   \n",
       "3               1     95587.0      95582     0      66.221867  ...         5   \n",
       "4               1     95579.0      95582     0      66.221867  ...         5   \n",
       "...           ...         ...        ...   ...            ...  ...       ...   \n",
       "1137            1     95583.0      95597     1      61.157933  ...        12   \n",
       "1138            1     95601.0      95597     1      61.157933  ...        12   \n",
       "1139            1     95617.0      95597     1      61.157933  ...        12   \n",
       "1140            1     95603.0      95597     1      61.157933  ...        12   \n",
       "1141            1     95986.0      95597     1      61.157933  ...        12   \n",
       "\n",
       "      pass_hour  pass_minute  pass_second  start_day  start_hour  \\\n",
       "0            11           39           15          5          11   \n",
       "1            11           39           59          5          11   \n",
       "2            11           41           47          5          11   \n",
       "3            11           45           55          5          11   \n",
       "4            11           46            1          5          11   \n",
       "...         ...          ...          ...        ...         ...   \n",
       "1137         12           51           49         12          12   \n",
       "1138         12           51           52         12          12   \n",
       "1139         12           52           37         12          12   \n",
       "1140         12           53           57         12          12   \n",
       "1141         12           55           38         12          12   \n",
       "\n",
       "      start_minute  time_process_hour  time_process_minute  \\\n",
       "0               36                  0                    3   \n",
       "1               36                  0                    3   \n",
       "2               36                  0                    5   \n",
       "3               36                  0                    9   \n",
       "4               36                  0                    9   \n",
       "...            ...                ...                  ...   \n",
       "1137             6                  0                   45   \n",
       "1138             6                  0                   45   \n",
       "1139             6                  0                   46   \n",
       "1140             6                  0                   47   \n",
       "1141             6                  0                   49   \n",
       "\n",
       "      time_process_second  \n",
       "0                       2  \n",
       "1                      46  \n",
       "2                      34  \n",
       "3                      42  \n",
       "4                      48  \n",
       "...                   ...  \n",
       "1137                   36  \n",
       "1138                   39  \n",
       "1139                   24  \n",
       "1140                   44  \n",
       "1141                   25  \n",
       "\n",
       "[1142 rows x 32 columns]"
      ]
     },
     "execution_count": 309,
     "metadata": {},
     "output_type": "execute_result"
    }
   ],
   "source": [
    "df"
   ]
  },
  {
   "cell_type": "code",
   "execution_count": 310,
   "metadata": {},
   "outputs": [],
   "source": [
    "# generate bin values\n",
    "num_bins = 4\n",
    "df['angle_bins'] = pd.qcut(df['Angle Passe'], num_bins)"
   ]
  },
  {
   "cell_type": "code",
   "execution_count": 311,
   "metadata": {},
   "outputs": [],
   "source": [
    "lst=df['angle_bins'].unique()\n",
    "my_dic={}\n",
    "my_dict = {}\n",
    "for i, val in enumerate(lst):\n",
    "    my_dict[val] = i"
   ]
  },
  {
   "cell_type": "code",
   "execution_count": 312,
   "metadata": {},
   "outputs": [],
   "source": [
    "df.angle_bins = df.angle_bins.replace(my_dict)"
   ]
  },
  {
   "cell_type": "code",
   "execution_count": null,
   "metadata": {},
   "outputs": [],
   "source": []
  },
  {
   "cell_type": "code",
   "execution_count": 313,
   "metadata": {},
   "outputs": [],
   "source": [
    "# Save the DataFrame to a CSV file\n",
    "df.to_csv(\"generated_data.csv\")"
   ]
  },
  {
   "cell_type": "code",
   "execution_count": null,
   "metadata": {},
   "outputs": [],
   "source": []
  }
 ],
 "metadata": {
  "kernelspec": {
   "display_name": "Python 3.8.13 ('intro_to_ds')",
   "language": "python",
   "name": "python3"
  },
  "language_info": {
   "codemirror_mode": {
    "name": "ipython",
    "version": 3
   },
   "file_extension": ".py",
   "mimetype": "text/x-python",
   "name": "python",
   "nbconvert_exporter": "python",
   "pygments_lexer": "ipython3",
   "version": "3.8.13"
  },
  "orig_nbformat": 4,
  "vscode": {
   "interpreter": {
    "hash": "c2d8aa6afe6024b62f6f9fc5a6755ecc5ab5ed657f1dbb49859cc1c431d03a86"
   }
  }
 },
 "nbformat": 4,
 "nbformat_minor": 2
}
